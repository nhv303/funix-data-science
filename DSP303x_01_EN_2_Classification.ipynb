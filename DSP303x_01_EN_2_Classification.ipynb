{
  "nbformat": 4,
  "nbformat_minor": 0,
  "metadata": {
    "colab": {
      "name": "DSP303x_01_EN_2_Starter_Code.ipynb",
      "provenance": [],
      "collapsed_sections": [
        "2yXSkeUjM1kr",
        "qaJt1GeEM1lA",
        "450BrJ44M1l6"
      ],
      "include_colab_link": true
    },
    "kernelspec": {
      "display_name": "Python 3",
      "language": "python",
      "name": "python3"
    },
    "language_info": {
      "codemirror_mode": {
        "name": "ipython",
        "version": 3
      },
      "file_extension": ".py",
      "mimetype": "text/x-python",
      "name": "python",
      "nbconvert_exporter": "python",
      "pygments_lexer": "ipython3",
      "version": "3.7.6"
    }
  },
  "cells": [
    {
      "cell_type": "markdown",
      "metadata": {
        "id": "view-in-github",
        "colab_type": "text"
      },
      "source": [
        "<a href=\"https://colab.research.google.com/github/nhv303/funix-data-science/blob/main/DSP303x_01_EN_2_Classification.ipynb\" target=\"_parent\"><img src=\"https://colab.research.google.com/assets/colab-badge.svg\" alt=\"Open In Colab\"/></a>"
      ]
    },
    {
      "cell_type": "markdown",
      "metadata": {
        "button": false,
        "id": "SzPE54CYM1kJ",
        "new_sheet": false,
        "run_control": {
          "read_only": false
        }
      },
      "source": [
        "<h1 align=center><font size = 10> Classification with Python</font></h1>"
      ]
    },
    {
      "cell_type": "markdown",
      "metadata": {
        "button": false,
        "id": "XPfbiVLfM1kK",
        "new_sheet": false,
        "run_control": {
          "read_only": false
        }
      },
      "source": [
        "In this notebook, we try to practice all the classification algorithms that we have learned in this course.\n",
        "\n",
        "We load a dataset using the Pandas library, and apply the following algorithms, and find the best one for this specific dataset by accuracy evaluation methods.\n",
        "\n",
        "Lets first load required libraries:"
      ]
    },
    {
      "cell_type": "code",
      "metadata": {
        "button": false,
        "id": "vcBmcLcqM1kL",
        "new_sheet": false,
        "run_control": {
          "read_only": false
        }
      },
      "source": [
        "import matplotlib.pyplot as plt\n",
        "from matplotlib.ticker import NullFormatter\n",
        "import pandas as pd\n",
        "import numpy as np\n",
        "import seaborn as sns\n",
        "import matplotlib.ticker as ticker\n",
        "from sklearn import preprocessing\n",
        "%matplotlib inline"
      ],
      "execution_count": null,
      "outputs": []
    },
    {
      "cell_type": "markdown",
      "metadata": {
        "id": "PKehb7okM1kN"
      },
      "source": [
        "# Mandatory part (85%  of the total score)"
      ]
    },
    {
      "cell_type": "markdown",
      "metadata": {
        "button": false,
        "id": "ZAL75IefM1kO",
        "new_sheet": false,
        "run_control": {
          "read_only": false
        }
      },
      "source": [
        "## About dataset"
      ]
    },
    {
      "cell_type": "markdown",
      "metadata": {
        "button": false,
        "id": "yrPdRO--M1kO",
        "new_sheet": false,
        "run_control": {
          "read_only": false
        }
      },
      "source": [
        "The Pima is a group of Native Americans living in Arizona. A genetic predisposition allowed this group to survive normally to a diet poor of carbohydrates for years. In recent years, a sudden shift from traditional agricultural crops to processed foods, together with a decline in physical activity, has made them develop the highest prevalence of type 2 diabetes and for this reason, they have been subject of many studies.\n",
        "\n",
        "The dataset includes data from 768 women with 8 characteristics, in particular:\n",
        "\n",
        "- Number of times pregnant\n",
        "- Plasma glucose concentration a 2 hours in an oral glucose tolerance test\n",
        "- Diastolic blood pressure (mm Hg)\n",
        "- Triceps skinfold thickness (mm)\n",
        "- 2-Hour serum insulin (mu U/ml)\n",
        "- Body mass index (weight in kg/(height in m)^2)\n",
        "- Diabetes pedigree function\n",
        "- Age (years)\n",
        "- The last column of the dataset indicates if the person has been diagnosed with diabetes (1) or not (0)"
      ]
    },
    {
      "cell_type": "markdown",
      "metadata": {
        "id": "dzJFrqwyM1kP"
      },
      "source": [
        "## The problem:"
      ]
    },
    {
      "cell_type": "markdown",
      "metadata": {
        "id": "WFl47FBcM1kQ"
      },
      "source": [
        "The type of dataset and problem is a classic supervised binary classification. Given a number of elements with certain characteristics (features), we want to build a machine learning model to identify people affected by type 2 diabetes.\n",
        "\n",
        "To solve the problem we will have to analyze the data, do any required transformation and nomarlization, apply a machine learning algorithm, train a model, check the performance of the trained model and iterate with other algorithms until we find the most performant for our type of dataset."
      ]
    },
    {
      "cell_type": "markdown",
      "metadata": {
        "button": false,
        "id": "Diy5tSZ7M1kQ",
        "new_sheet": false,
        "run_control": {
          "read_only": false
        }
      },
      "source": [
        "## Load Data From CSV File  "
      ]
    },
    {
      "cell_type": "markdown",
      "metadata": {
        "id": "qdIctwmZM1kR"
      },
      "source": [
        "### 1. Load the dataset from the 'pima-indians-diabetes.csv' file.\n",
        "\n",
        "Because the CSV doesn't contain any header, we add column names using the description from the original dataset website:\n",
        "\n",
        "dataset.columns = [\"NumTimesPrg\", \"PlGlcConc\", \"BloodP\", \"SkinThick\", \"TwoHourSerIns\", \"BMI\", \"DiPedFunc\", \"Age\", \"HasDiabetes\"]"
      ]
    },
    {
      "cell_type": "code",
      "metadata": {
        "button": false,
        "id": "K-TmhZ8vM1kS",
        "new_sheet": false,
        "run_control": {
          "read_only": false
        }
      },
      "source": [
        "#TO DO:\n",
        "names = [\"NumTimesPrg\", \"PlGlcConc\", \"BloodP\", \"SkinThick\", \"TwoHourSerIns\", \"BMI\", \"DiPedFunc\", \"Age\", \"HasDiabetes\"]\n",
        "df = pd.read_csv('pima-indians-diabetes.csv', engine = 'python', names = names)"
      ],
      "execution_count": null,
      "outputs": []
    },
    {
      "cell_type": "markdown",
      "metadata": {
        "button": false,
        "id": "AmBhwo0DM1kU",
        "new_sheet": false,
        "run_control": {
          "read_only": false
        }
      },
      "source": [
        "## Inspect the Dataset"
      ]
    },
    {
      "cell_type": "markdown",
      "metadata": {
        "id": "_HlgbaIQM1kU"
      },
      "source": [
        "### 2. Print out the shape of the dataset: we have 768 rows and 9 columns. Then, print out the head of the dataset to better understand the data format.\n",
        "\n",
        "The first 8 columns are features while the last one is the supervised label (1 = has diabetes, 0 = no diabetes)"
      ]
    },
    {
      "cell_type": "code",
      "metadata": {
        "button": false,
        "colab": {
          "base_uri": "https://localhost:8080/",
          "height": 34
        },
        "id": "bpyxtYzcM1kV",
        "new_sheet": false,
        "run_control": {
          "read_only": false
        },
        "outputId": "ada41e08-5676-4b9d-992d-8b51799a3713"
      },
      "source": [
        "#TO DO:\n",
        "df.shape"
      ],
      "execution_count": null,
      "outputs": [
        {
          "output_type": "execute_result",
          "data": {
            "text/plain": [
              "(768, 9)"
            ]
          },
          "metadata": {
            "tags": []
          },
          "execution_count": 4
        }
      ]
    },
    {
      "cell_type": "code",
      "metadata": {
        "colab": {
          "base_uri": "https://localhost:8080/",
          "height": 204
        },
        "id": "Ww_ewqti0kMH",
        "outputId": "b8ffdf0f-aa65-424e-905d-3a312b1dd10e"
      },
      "source": [
        "df.head()"
      ],
      "execution_count": null,
      "outputs": [
        {
          "output_type": "execute_result",
          "data": {
            "text/html": [
              "<div>\n",
              "<style scoped>\n",
              "    .dataframe tbody tr th:only-of-type {\n",
              "        vertical-align: middle;\n",
              "    }\n",
              "\n",
              "    .dataframe tbody tr th {\n",
              "        vertical-align: top;\n",
              "    }\n",
              "\n",
              "    .dataframe thead th {\n",
              "        text-align: right;\n",
              "    }\n",
              "</style>\n",
              "<table border=\"1\" class=\"dataframe\">\n",
              "  <thead>\n",
              "    <tr style=\"text-align: right;\">\n",
              "      <th></th>\n",
              "      <th>NumTimesPrg</th>\n",
              "      <th>PlGlcConc</th>\n",
              "      <th>BloodP</th>\n",
              "      <th>SkinThick</th>\n",
              "      <th>TwoHourSerIns</th>\n",
              "      <th>BMI</th>\n",
              "      <th>DiPedFunc</th>\n",
              "      <th>Age</th>\n",
              "      <th>HasDiabetes</th>\n",
              "    </tr>\n",
              "  </thead>\n",
              "  <tbody>\n",
              "    <tr>\n",
              "      <th>0</th>\n",
              "      <td>6</td>\n",
              "      <td>148</td>\n",
              "      <td>72</td>\n",
              "      <td>35</td>\n",
              "      <td>0</td>\n",
              "      <td>33.6</td>\n",
              "      <td>0.627</td>\n",
              "      <td>50</td>\n",
              "      <td>1</td>\n",
              "    </tr>\n",
              "    <tr>\n",
              "      <th>1</th>\n",
              "      <td>1</td>\n",
              "      <td>85</td>\n",
              "      <td>66</td>\n",
              "      <td>29</td>\n",
              "      <td>0</td>\n",
              "      <td>26.6</td>\n",
              "      <td>0.351</td>\n",
              "      <td>31</td>\n",
              "      <td>0</td>\n",
              "    </tr>\n",
              "    <tr>\n",
              "      <th>2</th>\n",
              "      <td>8</td>\n",
              "      <td>183</td>\n",
              "      <td>64</td>\n",
              "      <td>0</td>\n",
              "      <td>0</td>\n",
              "      <td>23.3</td>\n",
              "      <td>0.672</td>\n",
              "      <td>32</td>\n",
              "      <td>1</td>\n",
              "    </tr>\n",
              "    <tr>\n",
              "      <th>3</th>\n",
              "      <td>1</td>\n",
              "      <td>89</td>\n",
              "      <td>66</td>\n",
              "      <td>23</td>\n",
              "      <td>94</td>\n",
              "      <td>28.1</td>\n",
              "      <td>0.167</td>\n",
              "      <td>21</td>\n",
              "      <td>0</td>\n",
              "    </tr>\n",
              "    <tr>\n",
              "      <th>4</th>\n",
              "      <td>0</td>\n",
              "      <td>137</td>\n",
              "      <td>40</td>\n",
              "      <td>35</td>\n",
              "      <td>168</td>\n",
              "      <td>43.1</td>\n",
              "      <td>2.288</td>\n",
              "      <td>33</td>\n",
              "      <td>1</td>\n",
              "    </tr>\n",
              "  </tbody>\n",
              "</table>\n",
              "</div>"
            ],
            "text/plain": [
              "   NumTimesPrg  PlGlcConc  BloodP  SkinThick  TwoHourSerIns   BMI  DiPedFunc  \\\n",
              "0            6        148      72         35              0  33.6      0.627   \n",
              "1            1         85      66         29              0  26.6      0.351   \n",
              "2            8        183      64          0              0  23.3      0.672   \n",
              "3            1         89      66         23             94  28.1      0.167   \n",
              "4            0        137      40         35            168  43.1      2.288   \n",
              "\n",
              "   Age  HasDiabetes  \n",
              "0   50            1  \n",
              "1   31            0  \n",
              "2   32            1  \n",
              "3   21            0  \n",
              "4   33            1  "
            ]
          },
          "metadata": {
            "tags": []
          },
          "execution_count": 5
        }
      ]
    },
    {
      "cell_type": "markdown",
      "metadata": {
        "button": false,
        "id": "a02T2r1XM1kY",
        "new_sheet": false,
        "run_control": {
          "read_only": false
        }
      },
      "source": [
        "# Data visualization and pre-processing\n",
        "\n"
      ]
    },
    {
      "cell_type": "markdown",
      "metadata": {
        "button": false,
        "id": "WyisS4NVM1kZ",
        "new_sheet": false,
        "run_control": {
          "read_only": false
        }
      },
      "source": [
        "## Data correlation matrix\n",
        "### 3. Let's calculate the correlation matrix for our dataset.\n",
        "\n",
        "The correlation matrix is an important tool to understand the correlation between the different characteristics. The values range from -1 to 1 and the closer a value is to 1 the better correlation there is between two characteristics. "
      ]
    },
    {
      "cell_type": "code",
      "metadata": {
        "button": false,
        "id": "vymkxfN8M1kZ",
        "new_sheet": false,
        "run_control": {
          "read_only": false
        }
      },
      "source": [
        "#TO DO:\n",
        "corr = df.corr()"
      ],
      "execution_count": null,
      "outputs": []
    },
    {
      "cell_type": "markdown",
      "metadata": {
        "id": "Q0YpKuUBM1kb"
      },
      "source": [
        "### 4. Render the corr matrix using the heatmap in seaborn."
      ]
    },
    {
      "cell_type": "code",
      "metadata": {
        "colab": {
          "base_uri": "https://localhost:8080/",
          "height": 362
        },
        "id": "ll0POqtIM1kc",
        "outputId": "572dbd0a-0403-4148-9c6a-ba66af4c7194"
      },
      "source": [
        "#TO DO:\n",
        "%matplotlib inline\n",
        "sns.heatmap(corr, annot = True)\n",
        "plt.title('Correlation heatmap')"
      ],
      "execution_count": null,
      "outputs": [
        {
          "output_type": "execute_result",
          "data": {
            "text/plain": [
              "Text(0.5, 1, 'Correlation heatmap')"
            ]
          },
          "metadata": {
            "tags": []
          },
          "execution_count": 7
        },
        {
          "output_type": "display_data",
          "data": {
            "image/png": "[encoded data removed]",
            "text/plain": [
              "<Figure size 432x288 with 2 Axes>"
            ]
          },
          "metadata": {
            "tags": [],
            "needs_background": "light"
          }
        }
      ]
    },
    {
      "cell_type": "markdown",
      "metadata": {
        "id": "r7DgicVOM1ke"
      },
      "source": [
        "### 5. Print out the column which has the biggest corr number with 'HasDiabetes'."
      ]
    },
    {
      "cell_type": "code",
      "metadata": {
        "colab": {
          "base_uri": "https://localhost:8080/",
          "height": 221
        },
        "id": "DoZkwj3oM1ke",
        "outputId": "4e9ec9f9-0e74-4a0c-992c-15d27f5dcebf"
      },
      "source": [
        "#the column with the biggest corr number with \"HasDiabetes\" is PIGIcConc\n",
        "df['PlGlcConc']"
      ],
      "execution_count": null,
      "outputs": [
        {
          "output_type": "execute_result",
          "data": {
            "text/plain": [
              "0      148\n",
              "1       85\n",
              "2      183\n",
              "3       89\n",
              "4      137\n",
              "      ... \n",
              "763    101\n",
              "764    122\n",
              "765    121\n",
              "766    126\n",
              "767     93\n",
              "Name: PlGlcConc, Length: 768, dtype: int64"
            ]
          },
          "metadata": {
            "tags": []
          },
          "execution_count": 8
        }
      ]
    },
    {
      "cell_type": "markdown",
      "metadata": {
        "id": "gZ5Msu8UM1kg"
      },
      "source": [
        "## Visualize the Dataset\n",
        "Visualizing the data is an important step of the data analysis. With a graphical visualization of the data, we have a better understanding of the various features values distribution: for example, we can understand the average age of the people or the average BMI, etc...\n",
        "\n",
        "We could, of course, limit our inspection to the table visualization, but we could miss important things that may affect our model precision.\n",
        "### 6. Manipulate histogram to represent all data columns in the dataset."
      ]
    },
    {
      "cell_type": "code",
      "metadata": {
        "colab": {
          "base_uri": "https://localhost:8080/",
          "height": 879
        },
        "id": "BvWv27kgNupO",
        "outputId": "27708b63-64a0-4a38-c160-37c0604639b1"
      },
      "source": [
        "df.hist(bins=50, figsize=(20, 15))\n",
        "plt.show()"
      ],
      "execution_count": null,
      "outputs": [
        {
          "output_type": "display_data",
          "data": {
            "image/png": "[encoded data removed]",
            "text/plain": [
              "<Figure size 1440x1080 with 9 Axes>"
            ]
          },
          "metadata": {
            "tags": [],
            "needs_background": "light"
          }
        }
      ]
    },
    {
      "cell_type": "markdown",
      "metadata": {
        "button": false,
        "id": "VYSkabikM1kj",
        "new_sheet": false,
        "run_control": {
          "read_only": false
        }
      },
      "source": [
        "An important thing I notice in the dataset (and that wasn't obvious at the beginning) is the fact that some people have null (zero) values for some of the features: it's not quite possible to have 0 for BMI or the blood pressure.\n",
        "\n",
        "How can we deal with similar values? We will see it later during the data transformation phase."
      ]
    },
    {
      "cell_type": "markdown",
      "metadata": {
        "button": false,
        "id": "si5Fgks4M1kj",
        "new_sheet": false,
        "run_control": {
          "read_only": false
        }
      },
      "source": [
        "## Data cleaning and transformation"
      ]
    },
    {
      "cell_type": "markdown",
      "metadata": {
        "button": false,
        "id": "ZDAqJwOaM1kk",
        "new_sheet": false,
        "run_control": {
          "read_only": false
        }
      },
      "source": [
        "We have noticed from the previous analysis that some patients have missing data for some of the features. Machine learning algorithms don't work very well when the data are missing so we have to find a solution to \"clean\" the data we have.\n",
        "\n",
        "The easiest option could be to eliminate all those patients with null/zero values, but in this way, we would eliminate a lot of important data.\n",
        "\n",
        "Another option is to calculate the median value for a specific column and substitute that value everywhere (in the same column) we have zero or null. Let's see how to apply this second method.\n",
        "\n",
        "### 7. Interpolate missing values on ['BMI', 'BloodP', 'PlGlcConc', 'SkinThick',  'TwoHourSerIns'] using median values or any other way which is effective.\n",
        "\n",
        "We haven't transformed all the columns, because of some values which can make sense to be zero (like \"Number of times pregnant\")."
      ]
    },
    {
      "cell_type": "code",
      "metadata": {
        "button": false,
        "id": "ccZyY2RbM1kk",
        "new_sheet": false,
        "run_control": {
          "read_only": false
        }
      },
      "source": [
        "#TO DO:\n",
        "a = ['BMI', 'BloodP', 'PlGlcConc', 'SkinThick', 'TwoHourSerIns'] \n",
        "for i in a:\n",
        "  df[i]=df[i].replace(0,df[i].median())"
      ],
      "execution_count": null,
      "outputs": []
    },
    {
      "cell_type": "markdown",
      "metadata": {
        "id": "-8h0P-vLM1kl"
      },
      "source": [
        "## Normalize Data "
      ]
    },
    {
      "cell_type": "markdown",
      "metadata": {
        "id": "GNxKYsijM1km"
      },
      "source": [
        "One of the most important data transformations we need to apply is the features scaling. Basically, most of the machine learning algorithms don't work very well if the features have a different set of values. In our case, for example, the Age ranges from 20 to 80 years old, while the number of times a patient has been pregnant ranges from 0 to 17. For this reason, we need to apply a proper transformation.\n",
        "\n",
        "### 8. Execute Data Standardization using data zero mean and unit variance (don't forget to remove ground truth column before scaling)."
      ]
    },
    {
      "cell_type": "code",
      "metadata": {
        "id": "S22D1f6QM1km"
      },
      "source": [
        "#TO DO:\n",
        "X = df[[\"NumTimesPrg\", \"PlGlcConc\", \"BloodP\", \"SkinThick\", \"TwoHourSerIns\", \"BMI\", \"DiPedFunc\", \"Age\"]] .values.astype(float) #define feature set X and convert to numpy array\n",
        "y = df['HasDiabetes'] #define target y and convert to numpy array\n",
        "X = preprocessing.StandardScaler().fit(X).transform(X.astype(float)) #standardize X"
      ],
      "execution_count": null,
      "outputs": []
    },
    {
      "cell_type": "markdown",
      "metadata": {
        "button": false,
        "id": "oOHQu_2rM1ko",
        "new_sheet": false,
        "run_control": {
          "read_only": false
        }
      },
      "source": [
        "# Splitting the Dataset"
      ]
    },
    {
      "cell_type": "markdown",
      "metadata": {
        "id": "luDui2xtM1ko"
      },
      "source": [
        "Now that we have transformed the data, we need to split the dataset into two parts: a training dataset and a test dataset. Splitting the dataset is a very important step for supervised machine learning models. Basically, we are going to use the first part to train the model (ignoring the column with the pre-assigned label), then we use the trained model to make predictions on new data (which is the test dataset, not part of the training set) and compare the predicted value with the pre-assigned label.\n",
        "\n",
        "### 9. Split the dataset into 80/20 using the stratified technique and random_state=7."
      ]
    },
    {
      "cell_type": "code",
      "metadata": {
        "id": "Xfh4QK1oM1kp"
      },
      "source": [
        "#TO DO:\n",
        "from sklearn.model_selection import train_test_split\n",
        "X_train, X_test, y_train, y_test = train_test_split(X, y, test_size=0.2, random_state=7)"
      ],
      "execution_count": null,
      "outputs": []
    },
    {
      "cell_type": "markdown",
      "metadata": {
        "id": "Yk3Y6qVtM1kq"
      },
      "source": [
        "# Additional Question: \n",
        "### Why should we perform data normalization and data splitting before the training step?\n",
        "Type your answer in the cell bellow as the markdown format."
      ]
    },
    {
      "cell_type": "markdown",
      "metadata": {
        "id": "2yXSkeUjM1kr"
      },
      "source": [
        "### TO DO:\n",
        "We normalize data before training step because normalization enables a fair comparison between the different features, making sure they have the same impact, and it is also important for computational reasons. Then we need to split the data into 2 separate parts: for training and for testing. We only use training set to train the model, and use testing set to test the performance of the trained model on unseen data."
      ]
    },
    {
      "cell_type": "markdown",
      "metadata": {
        "id": "6PaVBEAwM1ks"
      },
      "source": [
        "### 10. Print out the proportion of positive/total women who have diabetes on the full dataset, training dataset, and testing dataset."
      ]
    },
    {
      "cell_type": "code",
      "metadata": {
        "colab": {
          "base_uri": "https://localhost:8080/",
          "height": 68
        },
        "id": "36nXnB7cM1ku",
        "outputId": "199c5a94-080a-4523-afef-d1e832e911ca"
      },
      "source": [
        "#TO DO:\n",
        "print('The proportion of positive diabetes/total women on the full dataset:',(y.value_counts()[1])*100.0/len(df))\n",
        "print('The proportion of positive diabetes/total women on the training dataset:', (np.count_nonzero(y_train == 1))*100.0/len(y_train))\n",
        "print('The proportion of positive diabetes/total women on the testing dataset:', (np.count_nonzero(y_test == 1))*100.0/len(y_test))"
      ],
      "execution_count": null,
      "outputs": [
        {
          "output_type": "stream",
          "text": [
            "The proportion of positive diabetes/total women on the full dataset: 34.895833333333336\n",
            "The proportion of positive diabetes/total women on the training dataset: 34.36482084690554\n",
            "The proportion of positive diabetes/total women on the testing dataset: 37.01298701298701\n"
          ],
          "name": "stdout"
        }
      ]
    },
    {
      "cell_type": "markdown",
      "metadata": {
        "button": false,
        "id": "KHXGaCazM1k0",
        "new_sheet": false,
        "run_control": {
          "read_only": false
        }
      },
      "source": [
        "# Classification "
      ]
    },
    {
      "cell_type": "markdown",
      "metadata": {
        "button": false,
        "id": "Q-NwUyDVM1k0",
        "new_sheet": false,
        "run_control": {
          "read_only": false
        }
      },
      "source": [
        "Now, it is your turn, use the training set to build an accurate model. Then use the test set to report the accuracy of the model.\n",
        "\n",
        "You should use the following algorithms:\n",
        "- K Nearest Neighbor(KNN)\n",
        "- Decision Tree\n",
        "- Support Vector Machine\n",
        "- Logistic Regression\n",
        "- Soft voting\n",
        "- Hard voting\n",
        "\n",
        "\n",
        "\n",
        "**__ Notes:__**\n",
        "\n",
        "- You must try to **FINE TUNE AT LEAST 3 PARAMETERS** on each algorithm, except on soft voting and hard voting.\n",
        "- You can go above and change the pre-processing, feature selection, feature extraction, and so on, to make a better model.\n",
        "- You should use either scikit-learn, Scipy or Numpy libraries for developing the classification algorithms.\n",
        "- You should include the code of the algorithm in the following cells."
      ]
    },
    {
      "cell_type": "markdown",
      "metadata": {
        "id": "c8HKeDu9M1k1"
      },
      "source": [
        "# Import Evaluation Metrices"
      ]
    },
    {
      "cell_type": "code",
      "metadata": {
        "id": "sZrg6rrsM1k1"
      },
      "source": [
        "from sklearn.metrics import jaccard_similarity_score, f1_score"
      ],
      "execution_count": null,
      "outputs": []
    },
    {
      "cell_type": "code",
      "metadata": {
        "id": "TBXdCSP-M1k3"
      },
      "source": [
        "# a dictionary for keeping all scores of the classifiers\n",
        "f1_scores = {'train':{'KNN': 0, 'DT': 0, 'SVM': 0, 'LR': 0, 'EN_HARD': 0, 'EN_SOFT': 0},\n",
        "             'test':{'KNN': 0, 'DT': 0, 'SVM': 0, 'LR': 0, 'EN_HARD': 0, 'EN_SOFT': 0}}\n",
        "jaccard_scores = {'train':{'KNN': 0, 'DT': 0, 'SVM': 0, 'LR': 0, 'EN_HARD': 0, 'EN_SOFT': 0}, \n",
        "                  'test':{'KNN': 0, 'DT': 0, 'SVM': 0, 'LR': 0, 'EN_HARD': 0, 'EN_SOFT': 0}}"
      ],
      "execution_count": null,
      "outputs": []
    },
    {
      "cell_type": "markdown",
      "metadata": {
        "id": "ntwqYDm7M1k6"
      },
      "source": [
        "# K Nearest Neighbor(KNN)\n",
        "### 11. Finetune at least 3 parameters to get the KNN model with best accuracy. Then, print out the KNN model's parameters with the best accuracy(best estimator).\n",
        "Hint: Using GridSearchCV in sklearn.model_selection.\n",
        "\n",
        "**Warning:** You should not use the test data for finding the best parameters."
      ]
    },
    {
      "cell_type": "code",
      "metadata": {
        "id": "WpD6yCUlM1k7"
      },
      "source": [
        "from sklearn.neighbors import KNeighborsClassifier\n",
        "from sklearn.model_selection import GridSearchCV\n",
        "from sklearn import metrics"
      ],
      "execution_count": null,
      "outputs": []
    },
    {
      "cell_type": "code",
      "metadata": {
        "colab": {
          "base_uri": "https://localhost:8080/",
          "height": 51
        },
        "id": "2ajzVvbX9hUH",
        "outputId": "30aa5250-8bb9-4e16-ab80-9b8ddf1a17e5"
      },
      "source": [
        "#set knn base case\n",
        "knn_base = KNeighborsClassifier().fit(X_train,y_train)\n",
        "yhat_knn_base = knn_base.predict(X_test)\n",
        "print(\"Base case Train set Jaccard: \", metrics.accuracy_score(y_train, knn_base.predict(X_train)),\", F1 score:\", f1_score(y_train, knn_base.predict(X_train)))\n",
        "print(\"Base case Test set Jaccard: \", metrics.accuracy_score(y_test, yhat_knn_base),\", F1 score:\", f1_score(y_test, yhat_knn_base))"
      ],
      "execution_count": null,
      "outputs": [
        {
          "output_type": "stream",
          "text": [
            "Base case Train set Jaccard:  0.8045602605863192 , F1 score: 0.6923076923076924\n",
            "Base case Test set Jaccard:  0.7337662337662337 , F1 score: 0.594059405940594\n"
          ],
          "name": "stdout"
        }
      ]
    },
    {
      "cell_type": "code",
      "metadata": {
        "colab": {
          "base_uri": "https://localhost:8080/",
          "height": 68
        },
        "id": "t0npkULOapT6",
        "outputId": "b99e6d4f-17ec-4674-90b1-d68963c78b8f"
      },
      "source": [
        "#List 3 Hyperparameters for tuning\n",
        "weights = ['uniform', 'distance']  #default=’uniform’\n",
        "n_neighbors = list(range(1,20)) # default=5\n",
        "p=[1,2] #default=2\n",
        "#Convert to dictionary\n",
        "hyperparameters = dict(weights=weights, n_neighbors=n_neighbors, p=p)\n",
        "#Create new KNN object\n",
        "knn = KNeighborsClassifier()\n",
        "#Use GridSearch\n",
        "clf = GridSearchCV(knn, hyperparameters, cv=10)\n",
        "#Fit the model on training set\n",
        "knn = clf.fit(X_train,y_train)\n",
        "#Print The value of best Hyperparameters\n",
        "print('Best weights:', knn.best_estimator_.get_params()['weights'])\n",
        "print('Best p:', knn.best_estimator_.get_params()['p'])\n",
        "print('Best n_neighbors:', knn.best_estimator_.get_params()['n_neighbors'])"
      ],
      "execution_count": null,
      "outputs": [
        {
          "output_type": "stream",
          "text": [
            "Best weights: distance\n",
            "Best p: 2\n",
            "Best n_neighbors: 16\n"
          ],
          "name": "stdout"
        }
      ]
    },
    {
      "cell_type": "markdown",
      "metadata": {
        "id": "QLvhv6JrM1lA"
      },
      "source": [
        "# Additional Question: \n",
        "### Interpret and explain the parameters you have chosen to fine tune in KNN algorithm.\n",
        "Type your answer in the cell bellow as markdown format."
      ]
    },
    {
      "cell_type": "markdown",
      "metadata": {
        "id": "qaJt1GeEM1lA"
      },
      "source": [
        "### TO DO:\n",
        "'n_neighbors' are the number of neighbors that will vote for the class of the target point; default number is 5. From GridSearch, the optimal n_neighbors is 29.  \n",
        "\n",
        "'weights' parameter has two choices: ‘uniform‘ and ‘distance‘. For the 'uniform' weight, each of the k neighbors has equal vote whatever its distance from the target point. If the weight is ‘distance‘ then voting weightage or importance varies by inverse of distance; those points who are nearest to the target point have greater influence than those who are farther away. From GridSearch, the optimal weights is uniform. \n",
        "\n",
        "'p' parameter indicates distance measure. A general formulation of distance metric is ‘minkowski’ distance. When parameter 'p' is 2, it is the same as euclidean distance and when parameter 'p' is 1, it is Manhattan distance. From GridSearch, the optimal p is 2, which is the euclidean distance."
      ]
    },
    {
      "cell_type": "markdown",
      "metadata": {
        "id": "GsPgXPEpM1lB"
      },
      "source": [
        "### 12. Run the prediction on KNN models on training data and test data, then calculate the f1 score and Jaccard similarity score and save it to f1_scores dict and jaccard_scores dict.  \n",
        "**Requirement**: F1 score on test data must be higher than **0.6**, Jaccard similarity score must be higher than **0.75**."
      ]
    },
    {
      "cell_type": "code",
      "metadata": {
        "colab": {
          "base_uri": "https://localhost:8080/",
          "height": 51
        },
        "id": "GxclqWk1M1lB",
        "outputId": "64cc7444-f09b-4e8b-e96a-9e55516a5084"
      },
      "source": [
        "#TO DO:\n",
        "yhat = knn.predict(X_test)\n",
        "print(\"Train set Jaccard: \", metrics.accuracy_score(y_train, knn.predict(X_train)),\", F1 score:\", f1_score(y_train, knn.predict(X_train)))\n",
        "print(\"Test set Jaccard: \", metrics.accuracy_score(y_test, yhat),\", F1 score:\", f1_score(y_test, yhat))"
      ],
      "execution_count": null,
      "outputs": [
        {
          "output_type": "stream",
          "text": [
            "Train set Jaccard:  1.0 , F1 score: 1.0\n",
            "Test set Jaccard:  0.7857142857142857 , F1 score: 0.6597938144329897\n"
          ],
          "name": "stdout"
        }
      ]
    },
    {
      "cell_type": "code",
      "metadata": {
        "id": "YPlUXDqsrpFn"
      },
      "source": [
        "#the tuned model is better than base case => keep the tuned model\n",
        "#save the tuned model to f1_scores dict and jaccarrd_scores dict\n",
        "f1_scores['train']['KNN'] = f1_score(y_train, knn.predict(X_train))\n",
        "jaccard_scores['train']['KNN'] = metrics.accuracy_score(y_train, knn.predict(X_train))\n",
        "f1_scores['test']['KNN'] = f1_score(y_test, yhat)\n",
        "jaccard_scores['test']['KNN'] = metrics.accuracy_score(y_test, yhat)"
      ],
      "execution_count": null,
      "outputs": []
    },
    {
      "cell_type": "markdown",
      "metadata": {
        "id": "NXIl2GGLM1lE"
      },
      "source": [
        "# Decision Tree"
      ]
    },
    {
      "cell_type": "markdown",
      "metadata": {
        "id": "kW11u1k6M1lF"
      },
      "source": [
        "### 13, 14. Perform task 11 and 12 on the DT model.\n",
        "\n",
        "Hint: Using GridSearchCV in sklearn.model_selection.\n",
        "\n",
        "**Warning**: You should not use the test data for finding the best parameters.\n",
        "\n",
        "**Requirement**: F1 score on test data has to higher than **0.6**, the Jaccard similarity score must be higher than **0.73**."
      ]
    },
    {
      "cell_type": "code",
      "metadata": {
        "id": "CnE8pvjvM1lG"
      },
      "source": [
        "from sklearn.tree import DecisionTreeClassifier"
      ],
      "execution_count": null,
      "outputs": []
    },
    {
      "cell_type": "code",
      "metadata": {
        "colab": {
          "base_uri": "https://localhost:8080/",
          "height": 51
        },
        "id": "aPExiM0x_Dau",
        "outputId": "8b6b97b5-f470-416c-ad10-0c79c3c2afde"
      },
      "source": [
        "#set DecisionTree base case\n",
        "tree_base = DecisionTreeClassifier().fit(X_train,y_train)\n",
        "yhat_tree_base = tree_base.predict(X_test)\n",
        "print(\"Base case Train set Jaccard: \", metrics.accuracy_score(y_train, tree_base.predict(X_train)),\", F1 score:\", f1_score(y_train, tree_base.predict(X_train)))\n",
        "print(\"Base case Test set Jaccard: \", metrics.accuracy_score(y_test, yhat_tree_base),\", F1 score:\", f1_score(y_test, yhat_tree_base))"
      ],
      "execution_count": null,
      "outputs": [
        {
          "output_type": "stream",
          "text": [
            "Base case Train set Jaccard:  1.0 , F1 score: 1.0\n",
            "Base case Test set Jaccard:  0.7792207792207793 , F1 score: 0.706896551724138\n"
          ],
          "name": "stdout"
        }
      ]
    },
    {
      "cell_type": "code",
      "metadata": {
        "colab": {
          "base_uri": "https://localhost:8080/",
          "height": 68
        },
        "id": "RPdHH2HiM1lI",
        "outputId": "e431440e-cf3e-4d5e-efd2-d23796b8772f"
      },
      "source": [
        "#the base case already met requirements. \n",
        "#List 3 Hyperparameters for tuning\n",
        "criterion = ['gini', 'entropy'] #defaul base case is gini\n",
        "max_depth = list(range(3,10)) #default=None\n",
        "max_features = [1,2,3,4,5,6,7] #default=None\n",
        "#Convert to dictionary\n",
        "hyperparameters = dict(criterion = criterion, max_depth = max_depth, max_features = max_features)\n",
        "#Create new DecisionTree object\n",
        "tree = DecisionTreeClassifier()\n",
        "#Use GridSearch\n",
        "clf = GridSearchCV(tree, hyperparameters, cv=10)\n",
        "#Fit the model on training set\n",
        "tree = clf.fit(X_train,y_train)\n",
        "#Print The value of best Hyperparameters\n",
        "print('Best criterion:', tree.best_estimator_.get_params()['criterion'])\n",
        "print('Best max_depth:', tree.best_estimator_.get_params()['max_depth'])\n",
        "print('Best max_features:', tree.best_estimator_.get_params()['max_features'])"
      ],
      "execution_count": null,
      "outputs": [
        {
          "output_type": "stream",
          "text": [
            "Best criterion: gini\n",
            "Best max_depth: 5\n",
            "Best max_features: 6\n"
          ],
          "name": "stdout"
        }
      ]
    },
    {
      "cell_type": "code",
      "metadata": {
        "colab": {
          "base_uri": "https://localhost:8080/",
          "height": 51
        },
        "id": "1Q4q4vUV04V6",
        "outputId": "c2b8c0ef-2281-4370-ba50-629ac46af89e"
      },
      "source": [
        "yhat_tree = tree.predict(X_test)\n",
        "print(\"Train set Jaccard: \", metrics.accuracy_score(y_train, tree.predict(X_train)),\", F1 score:\", f1_score(y_train, tree.predict(X_train)))\n",
        "print(\"Test set Jaccard: \", metrics.accuracy_score(y_test, yhat_tree),\", F1 score:\", f1_score(y_test, yhat_tree))"
      ],
      "execution_count": null,
      "outputs": [
        {
          "output_type": "stream",
          "text": [
            "Train set Jaccard:  0.8420195439739414 , F1 score: 0.7728337236533958\n",
            "Test set Jaccard:  0.7597402597402597 , F1 score: 0.6666666666666666\n"
          ],
          "name": "stdout"
        }
      ]
    },
    {
      "cell_type": "code",
      "metadata": {
        "id": "0X0j4nhp3b3y"
      },
      "source": [
        "#the tuned model performs worse than base case => keep the base case\n",
        "tree = tree_base\n",
        "#save to f1_scores dict and jaccarrd_scores dict\n",
        "f1_scores['train']['DT'] = f1_score(y_train, tree.predict(X_train))\n",
        "jaccard_scores['train']['DT'] = metrics.accuracy_score(y_train, tree.predict(X_train))\n",
        "f1_scores['test']['DT'] = f1_score(y_test, yhat_tree)\n",
        "jaccard_scores['test']['DT'] = metrics.accuracy_score(y_test, yhat_tree)"
      ],
      "execution_count": null,
      "outputs": []
    },
    {
      "cell_type": "markdown",
      "metadata": {
        "id": "0ZjQch2RM1lL"
      },
      "source": [
        "# Additional Question: \n",
        "### Interpret and explain the parameters you have chosen to fine tune in DT algorithm.\n",
        "Type your answer in the cell bellow as the markdown format."
      ]
    },
    {
      "cell_type": "markdown",
      "metadata": {
        "id": "g4aBT64WM1lL"
      },
      "source": [
        "### TO DO:\n",
        "criterion' indicates the function to measure the quality of a split. Supported criteria are “gini” for the Gini impurity and “entropy” for the information gain. From GridSearch, the optimal criterion is entropy.\n",
        "\n",
        "'max_depth' indicates the maximum depth of the tree. If None, then nodes are expanded until all leaves are pure or until all leaves contain less than min_samples_split samples. From GridSearch, the optimal max_depth is 5.\n",
        "\n",
        "'max_features' indicates the number of features to consider when looking for the best split. From GridSearch, the optimal max_features is 3."
      ]
    },
    {
      "cell_type": "markdown",
      "metadata": {
        "id": "nd4a59C6M1lQ"
      },
      "source": [
        "# Support Vector Machine"
      ]
    },
    {
      "cell_type": "markdown",
      "metadata": {
        "id": "sn_wfdWpM1lR"
      },
      "source": [
        "### 15, 16. Perform task 11 and 12 on SVM models.\n",
        "\n",
        "Hint: Using GridSearchCV in sklearn.model_selection.\n",
        "\n",
        "**Warning**: You should not use the test data for finding the best parameters.\n",
        "\n",
        "**Requirement**: F1 score on test data has to higher than **0.62**, Jaccard similarity score must be higher than **0.75**."
      ]
    },
    {
      "cell_type": "code",
      "metadata": {
        "id": "WUwo79EMM1lR"
      },
      "source": [
        "from sklearn.svm import SVC"
      ],
      "execution_count": null,
      "outputs": []
    },
    {
      "cell_type": "code",
      "metadata": {
        "colab": {
          "base_uri": "https://localhost:8080/",
          "height": 51
        },
        "id": "6vJsFvrDBarF",
        "outputId": "d977ceb3-f809-4aff-e7f9-d4d620513908"
      },
      "source": [
        "#set SVM base case\n",
        "svm_base = SVC(probability=True).fit(X_train,y_train)\n",
        "yhat_svm_base = svm_base.predict(X_test)\n",
        "print(\"Base case Train set Jaccard: \", metrics.accuracy_score(y_train, svm_base.predict(X_train)),\", F1 score:\", f1_score(y_train, svm_base.predict(X_train)))\n",
        "print(\"Base case Test set Jaccard: \", metrics.accuracy_score(y_test, yhat_svm_base),\", F1 score:\", f1_score(y_test, yhat_svm_base))"
      ],
      "execution_count": null,
      "outputs": [
        {
          "output_type": "stream",
          "text": [
            "Base case Train set Jaccard:  0.8159609120521173 , F1 score: 0.6970509383378017\n",
            "Base case Test set Jaccard:  0.8376623376623377 , F1 score: 0.7524752475247524\n"
          ],
          "name": "stdout"
        }
      ]
    },
    {
      "cell_type": "code",
      "metadata": {
        "colab": {
          "base_uri": "https://localhost:8080/",
          "height": 68
        },
        "id": "JMxZtQa8M1lT",
        "outputId": "51545617-9fd9-466a-e1d7-402edaf8cff9"
      },
      "source": [
        "#the base case already met requirements. \n",
        "#List 3 Hyperparameters for tuning\n",
        "kernel = ['poly', 'rbf', 'sigmoid'] # default=’rbf’\n",
        "gamma = ['scale', 'auto'] #default=’scale’\n",
        "Cs = [0.001, 0.01, 0.1, 1, 10] #default=1.0\n",
        "#Convert to dictionary \n",
        "hyperparameters = dict(C = Cs, kernel = kernel, gamma = gamma)\n",
        "#Create new SVM object\n",
        "svm = SVC(probability=True)\n",
        "#Use GridSearch\n",
        "clf = GridSearchCV(svm, hyperparameters, cv=10)\n",
        "#Fit the model on training set\n",
        "svm = clf.fit(X_train,y_train)\n",
        "#Print The value of best Hyperparameters\n",
        "print('Best C:', svm.best_estimator_.get_params()['C'])\n",
        "print('Best kernel:', svm.best_estimator_.get_params()['kernel'])\n",
        "print('Best gamma:', svm.best_estimator_.get_params()['gamma'])"
      ],
      "execution_count": null,
      "outputs": [
        {
          "output_type": "stream",
          "text": [
            "Best C: 0.1\n",
            "Best kernel: sigmoid\n",
            "Best gamma: scale\n"
          ],
          "name": "stdout"
        }
      ]
    },
    {
      "cell_type": "code",
      "metadata": {
        "colab": {
          "base_uri": "https://localhost:8080/",
          "height": 51
        },
        "id": "d-6zjumo6Ajp",
        "outputId": "ca024970-1a74-4ceb-829a-f2a5dd299c8b"
      },
      "source": [
        "yhat_svm = svm.predict(X_test)\n",
        "print(\"Train set Jaccard: \", metrics.accuracy_score(y_train, svm.predict(X_train)),\", F1 score:\", f1_score(y_train, svm.predict(X_train)))\n",
        "print(\"Test set Jaccard: \", metrics.accuracy_score(y_test, yhat_svm),\", F1 score:\", f1_score(y_test, yhat_svm))"
      ],
      "execution_count": null,
      "outputs": [
        {
          "output_type": "stream",
          "text": [
            "Train set Jaccard:  0.7703583061889251 , F1 score: 0.6259946949602122\n",
            "Test set Jaccard:  0.7792207792207793 , F1 score: 0.66\n"
          ],
          "name": "stdout"
        }
      ]
    },
    {
      "cell_type": "code",
      "metadata": {
        "id": "s2lRIslX8cRh"
      },
      "source": [
        "#the tuned model performs worse than base case => keep the base model\n",
        "svm = svm_base\n",
        "#save to f1_scores dict and jaccarrd_scores dict\n",
        "f1_scores['train']['SVM'] = f1_score(y_train, svm.predict(X_train))\n",
        "jaccard_scores['train']['SVM'] = metrics.accuracy_score(y_train, svm.predict(X_train))\n",
        "f1_scores['test']['SVM'] = f1_score(y_test, yhat_svm)\n",
        "jaccard_scores['test']['SVM'] = metrics.accuracy_score(y_test, yhat_svm)"
      ],
      "execution_count": null,
      "outputs": []
    },
    {
      "cell_type": "markdown",
      "metadata": {
        "id": "03XgTdoPM1lW"
      },
      "source": [
        "# Additional Question: \n",
        "### Interpret and explain the parameters you have chosen to fine tune in SVM algorithm.\n",
        "Type your answer in the cell bellow as the markdown format."
      ]
    },
    {
      "cell_type": "markdown",
      "metadata": {
        "id": "wz0N8-CIM1lW"
      },
      "source": [
        "### TO DO:\n",
        "'kernel' indicates the kernel type to be used in the algorithm. It must be 'linear’, ‘poly’, ‘rbf’, ‘sigmoid’, ‘precomputed’. I only choose ‘poly’, ‘rbf’, ‘sigmoid’.From GridSearch, the optimal kernel is sigmoid.\n",
        "\n",
        "'gamma' indicates Kernel coefficient for ‘rbf’, ‘poly’ and ‘sigmoid’. From GridSearch, the optimal gamma is scale .\n",
        "\n",
        "'C'is Regularization parameter. The strength of the regularization is inversely proportional to C. From GridSearch, the optimal C is 0.1."
      ]
    },
    {
      "cell_type": "markdown",
      "metadata": {
        "id": "xRVAKHEkM1la"
      },
      "source": [
        "# Logistic Regression"
      ]
    },
    {
      "cell_type": "markdown",
      "metadata": {
        "id": "nTQkBQIXM1la"
      },
      "source": [
        "### 17, 18. Perform task 11 and 12 on Logistic Regression model.\n",
        "\n",
        "Hint: Using GridSearchCV in sklearn.model_selection.\n",
        "\n",
        "**Warning**: You should not use the test data for finding the best parameters.\n",
        "\n",
        "**Requirement**: F1 score on test data has to higher than **0.63**, Jaccard similarity score must be higher than **0.75**."
      ]
    },
    {
      "cell_type": "code",
      "metadata": {
        "id": "cWFYayQLM1lb"
      },
      "source": [
        "from sklearn.linear_model import LogisticRegression"
      ],
      "execution_count": null,
      "outputs": []
    },
    {
      "cell_type": "code",
      "metadata": {
        "colab": {
          "base_uri": "https://localhost:8080/",
          "height": 51
        },
        "id": "JO0LQyteIUyh",
        "outputId": "1acc2d7a-f0f6-4ca5-d205-54e96fca929d"
      },
      "source": [
        "#set LR base case\n",
        "LR_base = LogisticRegression().fit(X_train,y_train)\n",
        "yhat_LR_base = LR_base.predict(X_test)\n",
        "print(\"Base case Train set Jaccard: \", metrics.accuracy_score(y_train, LR_base.predict(X_train)),\", F1 score:\", f1_score(y_train, LR_base.predict(X_train)))\n",
        "print(\"Base case Test set Jaccard: \", metrics.accuracy_score(y_test, yhat_LR_base),\", F1 score:\", f1_score(y_test, yhat_LR_base))"
      ],
      "execution_count": null,
      "outputs": [
        {
          "output_type": "stream",
          "text": [
            "Base case Train set Jaccard:  0.7785016286644951 , F1 score: 0.6363636363636364\n",
            "Base case Test set Jaccard:  0.7727272727272727 , F1 score: 0.6464646464646465\n"
          ],
          "name": "stdout"
        }
      ]
    },
    {
      "cell_type": "code",
      "metadata": {
        "colab": {
          "base_uri": "https://localhost:8080/",
          "height": 68
        },
        "id": "7szXdAHTM1lc",
        "outputId": "cb9f6f6a-d286-4f3d-c4b8-45ae4395c3c3"
      },
      "source": [
        "#the base case already met requirements\n",
        "#List 3 Hyperparameters for tuning\n",
        "penalty = ['l2', 'none'] #default=’l2’\n",
        "max_iter = list(range(50, 200)) #default=100\n",
        "solver = ['saga', 'newton-cg', 'lbfgs', 'sag'] #default=’lbfgs’ \n",
        "#Convert to dictionary\n",
        "hyperparameters = dict(max_iter = max_iter, penalty = penalty, solver =  solver)\n",
        "#Create new LogisticRegression object\n",
        "LR = LogisticRegression()\n",
        "#Use GridSearch\n",
        "clf = GridSearchCV(LR, hyperparameters, cv=10)\n",
        "#Fit the model on training set\n",
        "LR = clf.fit(X_train,y_train)\n",
        "#Print The value of best Hyperparameters\n",
        "print('Best max_iter:', LR.best_estimator_.get_params()['max_iter'])\n",
        "print('Best penalty:', LR.best_estimator_.get_params()['penalty'])\n",
        "print('Best solver:', LR.best_estimator_.get_params()['solver'])"
      ],
      "execution_count": null,
      "outputs": [
        {
          "output_type": "stream",
          "text": [
            "Best max_iter: 50\n",
            "Best penalty: l2\n",
            "Best solver: saga\n"
          ],
          "name": "stdout"
        }
      ]
    },
    {
      "cell_type": "code",
      "metadata": {
        "colab": {
          "base_uri": "https://localhost:8080/",
          "height": 51
        },
        "id": "01RRqm0uKz0W",
        "outputId": "58b5c183-53d0-47e1-d875-fa41820ff1d3"
      },
      "source": [
        "yhat_LR = LR.predict(X_test)\n",
        "print(\"Train set Jaccard: \", metrics.accuracy_score(y_train, LR.predict(X_train)),\", F1 score:\", f1_score(y_train, LR.predict(X_train)))\n",
        "print(\"Test set Jaccard: \", metrics.accuracy_score(y_test, yhat_LR),\", F1 score:\", f1_score(y_test, yhat_LR))"
      ],
      "execution_count": null,
      "outputs": [
        {
          "output_type": "stream",
          "text": [
            "Train set Jaccard:  0.7785016286644951 , F1 score: 0.6363636363636364\n",
            "Test set Jaccard:  0.7727272727272727 , F1 score: 0.6464646464646465\n"
          ],
          "name": "stdout"
        }
      ]
    },
    {
      "cell_type": "code",
      "metadata": {
        "id": "QPC7TOiKLUjz"
      },
      "source": [
        "#the tuned model performs equal to base case \n",
        "#save to f1_scores dict and jaccarrd_scores dict\n",
        "f1_scores['train']['LR'] = f1_score(y_train, LR.predict(X_train))\n",
        "jaccard_scores['train']['LR'] = metrics.accuracy_score(y_train,LR.predict(X_train))\n",
        "f1_scores['test']['LR'] = f1_score(y_test, yhat_LR)\n",
        "jaccard_scores['test']['LR'] = metrics.accuracy_score(y_test, yhat_LR)"
      ],
      "execution_count": null,
      "outputs": []
    },
    {
      "cell_type": "markdown",
      "metadata": {
        "id": "aD7oRgqftljQ"
      },
      "source": [
        "# Additional Question: \n",
        "### Interpret and explain the parameters you have chosen to fine tune in Logistics Regression algorithm.\n",
        "Type your answer in the cell bellow as the markdown format."
      ]
    },
    {
      "cell_type": "markdown",
      "metadata": {
        "id": "RmPs5O5RM1lf"
      },
      "source": [
        "### TO DO:\n",
        "'penalty' used to specify the norm used in the penalization. It must be ‘l1’, ‘l2’, ‘elasticnet’, ‘none’. I only choose 'l2' and 'none' since the ‘newton-cg’, ‘sag’ and ‘lbfgs’ solvers support only l2 penalties. ‘elasticnet’ is only supported by the ‘saga’ solver. If ‘none’ (not supported by the liblinear solver), no regularization is applied. From GridSearch, the optimal penalty is l2.\n",
        "\n",
        "'max_iter' indicates Maximum number of iterations taken for the solvers to converge. From GridSearch, the optimal max_iter is 50.\n",
        "\n",
        "'solver' is Algorithm to use in the optimization problem. I choose 'newton-cg’, ‘lbfgs’, ‘sag’ and ‘saga’. From GridSearch, the optimal solver is saga."
      ]
    },
    {
      "cell_type": "markdown",
      "metadata": {
        "id": "xhThcwLYM1li"
      },
      "source": [
        "# Advanced part (15%  of the total score)"
      ]
    },
    {
      "cell_type": "markdown",
      "metadata": {
        "id": "eRc5JoN7M1lo"
      },
      "source": [
        "# Ensemble model"
      ]
    },
    {
      "cell_type": "markdown",
      "metadata": {
        "id": "8-eteyNxM1lo"
      },
      "source": [
        "### 19. Perform soft voting on the 4 above models (using the same setting for the 4 models as in previous steps.) \n",
        "**Hint**: Using VotingClassifier in sklearn.ensemble."
      ]
    },
    {
      "cell_type": "code",
      "metadata": {
        "id": "G7FfposgM1lp"
      },
      "source": [
        "from sklearn.ensemble import VotingClassifier"
      ],
      "execution_count": null,
      "outputs": []
    },
    {
      "cell_type": "code",
      "metadata": {
        "id": "J-EjCxe6M1ls"
      },
      "source": [
        "#TO DO:\n",
        "#create a dictionary of our models\n",
        "models = [('KNN',knn), ('DT',tree), ('SVM',svm), ('LR',LR)]\n",
        "#create our voting classifier, inputting our models\n",
        "eclf1 = VotingClassifier(estimators= models, voting = 'soft')"
      ],
      "execution_count": null,
      "outputs": []
    },
    {
      "cell_type": "markdown",
      "metadata": {
        "id": "vZu5N_i3M1lu"
      },
      "source": [
        "### 20. Run the prediction on the ensembling model using soft voting on training data and test data, then calculate the f1 score and Jaccard similarity score and save it to f1_scores dict and jaccard_scores dict.¶\n",
        "\n",
        "**Requirement**: F1 score on test data must be higher than **0.66**, Jaccard similarity score must be higher than **0.78**."
      ]
    },
    {
      "cell_type": "code",
      "metadata": {
        "colab": {
          "base_uri": "https://localhost:8080/",
          "height": 51
        },
        "id": "SeuL7a0rM1lu",
        "outputId": "1df265d0-d228-427d-8777-afbd3ed501cd"
      },
      "source": [
        "#TO DO:\n",
        "eclf1 = eclf1.fit(X_train, y_train)\n",
        "yhat_eclf1 = eclf1.predict(X_test)\n",
        "print(\"Train set Jaccard: \", metrics.accuracy_score(y_train, eclf1.predict(X_train)),\", F1 score:\", f1_score(y_train, eclf1.predict(X_train)))\n",
        "print(\"Test set Jaccard: \", metrics.accuracy_score(y_test, yhat_eclf1),\", F1 score:\", f1_score(y_test, yhat_eclf1))"
      ],
      "execution_count": null,
      "outputs": [
        {
          "output_type": "stream",
          "text": [
            "Train set Jaccard:  1.0 , F1 score: 1.0\n",
            "Test set Jaccard:  0.8116883116883117 , F1 score: 0.7339449541284404\n"
          ],
          "name": "stdout"
        }
      ]
    },
    {
      "cell_type": "code",
      "metadata": {
        "id": "EQdl6ABSUHXA"
      },
      "source": [
        "#save to f1_scores dict and jaccarrd_scores dict\n",
        "f1_scores['train']['EN_SOFT'] = f1_score(y_train, eclf1.predict(X_train))\n",
        "jaccard_scores['train']['EN_SOFT'] = metrics.accuracy_score(y_train,eclf1.predict(X_train))\n",
        "f1_scores['test']['EN_SOFT'] = f1_score(y_test, yhat_eclf1)\n",
        "jaccard_scores['test']['EN_SOFT'] = metrics.accuracy_score(y_test, yhat_eclf1)"
      ],
      "execution_count": null,
      "outputs": []
    },
    {
      "cell_type": "markdown",
      "metadata": {
        "id": "d9vVirtTM1lw"
      },
      "source": [
        "### 21, 22. Perform task 19 and 20 using hard voting.\n",
        "Hint: Using GridSearchCV in sklearn.model_selection.\n",
        "\n",
        "**Warning**: You should not use the test data for finding the best parameters.\n",
        "\n",
        "**Requirement**: F1 score on test data must be higher than **0.57**, Jaccard similarity score must be higher than **0.73**."
      ]
    },
    {
      "cell_type": "code",
      "metadata": {
        "id": "0n-qRxd5M1lx"
      },
      "source": [
        "#TO DO:\n",
        "#create our voting classifier, inputting our models\n",
        "eclf2 = VotingClassifier(estimators= models, voting = 'hard')"
      ],
      "execution_count": null,
      "outputs": []
    },
    {
      "cell_type": "code",
      "metadata": {
        "colab": {
          "base_uri": "https://localhost:8080/",
          "height": 51
        },
        "id": "zxvqWZBcM1lz",
        "outputId": "1a7d2d8d-1669-46db-c2a2-64b011bf4f60"
      },
      "source": [
        "#TO DO:\n",
        "eclf2 = eclf2.fit(X_train, y_train)\n",
        "yhat_eclf2 = eclf2.predict(X_test)\n",
        "print(\"Train set Jaccard: \", metrics.accuracy_score(y_train, eclf2.predict(X_train)),\", F1 score:\", f1_score(y_train, eclf2.predict(X_train)))\n",
        "print(\"Test set Jaccard: \", metrics.accuracy_score(y_test, yhat_eclf2),\", F1 score:\", f1_score(y_test, yhat_eclf2))"
      ],
      "execution_count": null,
      "outputs": [
        {
          "output_type": "stream",
          "text": [
            "Train set Jaccard:  0.8762214983713354 , F1 score: 0.7803468208092486\n",
            "Test set Jaccard:  0.8051948051948052 , F1 score: 0.6808510638297872\n"
          ],
          "name": "stdout"
        }
      ]
    },
    {
      "cell_type": "code",
      "metadata": {
        "id": "bqsbBzbbUv5L"
      },
      "source": [
        "#save to f1_scores dict and jaccarrd_scores dict\n",
        "f1_scores['train']['EN_HARD'] = f1_score(y_train, eclf2.predict(X_train))\n",
        "jaccard_scores['train']['EN_HARD'] = metrics.accuracy_score(y_train,eclf2.predict(X_train))\n",
        "f1_scores['test']['EN_HARD'] = f1_score(y_test, yhat_eclf2)\n",
        "jaccard_scores['test']['EN_HARD'] = metrics.accuracy_score(y_test, yhat_eclf2)"
      ],
      "execution_count": null,
      "outputs": []
    },
    {
      "cell_type": "markdown",
      "metadata": {
        "id": "RmteU8YeM1l3"
      },
      "source": [
        "# Report\n",
        "You should be able to report the accuracy of the built model using different evaluation metrics:"
      ]
    },
    {
      "cell_type": "markdown",
      "metadata": {
        "id": "c3q0IThKM1l3"
      },
      "source": [
        "| Algorithm          | Jaccard-training | F1-score-training |Jaccard-testing | F1-score-testing |\n",
        "|--------------------|------------------|-------------------|----------------|------------------|\n",
        "| KNN                | ?                | ?                 |  ?             |  ?               |\n",
        "| Decision Tree      | ?                | ?                 |  ?             |  ?               |\n",
        "| SVM                | ?                | ?                 |  ?             |  ?               |\n",
        "| Logistic Regression| ?                | ?                 |  ?             |  ?               |\n",
        "| Hard Voting        | ?                | ?                 |  ?             |  ?               |\n",
        "| Soft Voting        | ?                | ?                 |  ?             |  ?               |\n"
      ]
    },
    {
      "cell_type": "markdown",
      "metadata": {
        "id": "PpqjW-eOM1l3"
      },
      "source": [
        "### 23. Create a data frame that describes the result as exactly as above."
      ]
    },
    {
      "cell_type": "code",
      "metadata": {
        "colab": {
          "base_uri": "https://localhost:8080/",
          "height": 235
        },
        "id": "pI3_EsgtM1l4",
        "outputId": "3c855767-49a3-43fc-82f1-6413a16f3d42"
      },
      "source": [
        "#TO DO:\n",
        "result = pd.DataFrame.from_dict([jaccard_scores['train'],f1_scores['train'], jaccard_scores['test'], f1_scores['test']], orient = 'columns', )\n",
        "result = result.transpose().reset_index()\n",
        "result.columns = ['Algorithm','Jaccard-training', 'F1-score-training', 'Jaccard-testing','F1-score-testing']\n",
        "result"
      ],
      "execution_count": null,
      "outputs": [
        {
          "output_type": "execute_result",
          "data": {
            "text/html": [
              "<div>\n",
              "<style scoped>\n",
              "    .dataframe tbody tr th:only-of-type {\n",
              "        vertical-align: middle;\n",
              "    }\n",
              "\n",
              "    .dataframe tbody tr th {\n",
              "        vertical-align: top;\n",
              "    }\n",
              "\n",
              "    .dataframe thead th {\n",
              "        text-align: right;\n",
              "    }\n",
              "</style>\n",
              "<table border=\"1\" class=\"dataframe\">\n",
              "  <thead>\n",
              "    <tr style=\"text-align: right;\">\n",
              "      <th></th>\n",
              "      <th>Algorithm</th>\n",
              "      <th>Jaccard-training</th>\n",
              "      <th>F1-score-training</th>\n",
              "      <th>Jaccard-testing</th>\n",
              "      <th>F1-score-testing</th>\n",
              "    </tr>\n",
              "  </thead>\n",
              "  <tbody>\n",
              "    <tr>\n",
              "      <th>0</th>\n",
              "      <td>KNN</td>\n",
              "      <td>1.000000</td>\n",
              "      <td>1.000000</td>\n",
              "      <td>0.785714</td>\n",
              "      <td>0.659794</td>\n",
              "    </tr>\n",
              "    <tr>\n",
              "      <th>1</th>\n",
              "      <td>DT</td>\n",
              "      <td>1.000000</td>\n",
              "      <td>1.000000</td>\n",
              "      <td>0.759740</td>\n",
              "      <td>0.666667</td>\n",
              "    </tr>\n",
              "    <tr>\n",
              "      <th>2</th>\n",
              "      <td>SVM</td>\n",
              "      <td>0.815961</td>\n",
              "      <td>0.697051</td>\n",
              "      <td>0.779221</td>\n",
              "      <td>0.660000</td>\n",
              "    </tr>\n",
              "    <tr>\n",
              "      <th>3</th>\n",
              "      <td>LR</td>\n",
              "      <td>0.778502</td>\n",
              "      <td>0.636364</td>\n",
              "      <td>0.772727</td>\n",
              "      <td>0.646465</td>\n",
              "    </tr>\n",
              "    <tr>\n",
              "      <th>4</th>\n",
              "      <td>EN_HARD</td>\n",
              "      <td>0.876221</td>\n",
              "      <td>0.780347</td>\n",
              "      <td>0.805195</td>\n",
              "      <td>0.680851</td>\n",
              "    </tr>\n",
              "    <tr>\n",
              "      <th>5</th>\n",
              "      <td>EN_SOFT</td>\n",
              "      <td>1.000000</td>\n",
              "      <td>1.000000</td>\n",
              "      <td>0.811688</td>\n",
              "      <td>0.733945</td>\n",
              "    </tr>\n",
              "  </tbody>\n",
              "</table>\n",
              "</div>"
            ],
            "text/plain": [
              "  Algorithm  Jaccard-training  F1-score-training  Jaccard-testing  \\\n",
              "0       KNN          1.000000           1.000000         0.785714   \n",
              "1        DT          1.000000           1.000000         0.759740   \n",
              "2       SVM          0.815961           0.697051         0.779221   \n",
              "3        LR          0.778502           0.636364         0.772727   \n",
              "4   EN_HARD          0.876221           0.780347         0.805195   \n",
              "5   EN_SOFT          1.000000           1.000000         0.811688   \n",
              "\n",
              "   F1-score-testing  \n",
              "0          0.659794  \n",
              "1          0.666667  \n",
              "2          0.660000  \n",
              "3          0.646465  \n",
              "4          0.680851  \n",
              "5          0.733945  "
            ]
          },
          "metadata": {
            "tags": []
          },
          "execution_count": 44
        }
      ]
    },
    {
      "cell_type": "markdown",
      "metadata": {
        "id": "TYifTRP7M1l5"
      },
      "source": [
        "# Additional Question: \n",
        "### Are ensemble methods always better than a single model? If not, explain why?\n",
        "Type your answer in the cell bellow as the markdown format.\n",
        "\t"
      ]
    },
    {
      "cell_type": "markdown",
      "metadata": {
        "id": "450BrJ44M1l6"
      },
      "source": [
        "### TO DO:\n",
        "Ensemble methods are not always better than a single model. This is because esemble model works well only when we ensemble models with low correlation and does not have the same bias."
      ]
    }
  ]
}